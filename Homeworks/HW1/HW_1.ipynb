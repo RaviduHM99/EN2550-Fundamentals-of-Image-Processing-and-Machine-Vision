{
  "cells": [
    {
      "cell_type": "markdown",
      "metadata": {
        "id": "ORoN-41FVPxq"
      },
      "source": [
        "Name : Munasinghe M.M.R.H.\n",
        "\n",
        "Index No. : 190399L"
      ]
    },
    {
      "cell_type": "code",
      "execution_count": 1,
      "metadata": {
        "id": "egQZrV5ViIpZ"
      },
      "outputs": [],
      "source": [
        "import sympy as sp\n",
        "import numpy as np\n",
        "import cv2 as cv\n",
        "import matplotlib.pyplot as plt"
      ]
    },
    {
      "cell_type": "code",
      "execution_count": 3,
      "metadata": {
        "colab": {
          "base_uri": "https://localhost:8080/"
        },
        "id": "NSBgjAdMiMbj",
        "outputId": "e85d2caf-9b52-4ab4-ba92-338865fc622b"
      },
      "outputs": [
        {
          "name": "stdout",
          "output_type": "stream",
          "text": [
            "1 :  1\n",
            "2 :  4\n",
            "3 :  9\n",
            "4 :  16\n",
            "5 :  25\n"
          ]
        }
      ],
      "source": [
        "for i in range(1,6):\n",
        "    print(i,\": \",i**2)"
      ]
    },
    {
      "cell_type": "code",
      "execution_count": 4,
      "metadata": {
        "colab": {
          "base_uri": "https://localhost:8080/"
        },
        "id": "hnX-E4dbiNIc",
        "outputId": "5c472bbe-dd99-4a7b-fd72-658f11261132"
      },
      "outputs": [
        {
          "name": "stdout",
          "output_type": "stream",
          "text": [
            "1 :  1\n",
            "4 :  16\n"
          ]
        }
      ],
      "source": [
        "for i in range(1,6):\n",
        "    if sp.isprime(i) == 0:\n",
        "      print(i,\": \",i**2)"
      ]
    },
    {
      "cell_type": "code",
      "execution_count": 5,
      "metadata": {
        "colab": {
          "base_uri": "https://localhost:8080/"
        },
        "id": "gcZmB-nqijDF",
        "outputId": "9a5323b9-9786-4165-fd85-a4937f538c5d"
      },
      "outputs": [
        {
          "name": "stdout",
          "output_type": "stream",
          "text": [
            "1 :  1\n",
            "2 :  4\n",
            "3 :  9\n",
            "4 :  16\n",
            "5 :  25\n"
          ]
        }
      ],
      "source": [
        "squares = [i**2 for i in range(1,6)]\n",
        "for ind, i in enumerate(squares):\n",
        "  print(ind+1, \": \", i)"
      ]
    },
    {
      "cell_type": "code",
      "execution_count": 6,
      "metadata": {
        "colab": {
          "base_uri": "https://localhost:8080/"
        },
        "id": "_WzJAV-yi9J9",
        "outputId": "724b1127-27e3-4765-fe78-87d47389619e"
      },
      "outputs": [
        {
          "name": "stdout",
          "output_type": "stream",
          "text": [
            "1 :  1\n",
            "4 :  16\n"
          ]
        }
      ],
      "source": [
        "squares = [i**2 for i in range(1,6)]\n",
        "for ind, i in enumerate(squares):\n",
        "  if sp.isprime(ind + 1) == 0:\n",
        "    print(ind+1, \": \", i)"
      ]
    },
    {
      "cell_type": "code",
      "execution_count": 7,
      "metadata": {
        "colab": {
          "base_uri": "https://localhost:8080/"
        },
        "id": "89wSmVe7kNXR",
        "outputId": "0a1b7ed4-89ae-4530-823b-73266d12eb41"
      },
      "outputs": [
        {
          "name": "stdout",
          "output_type": "stream",
          "text": [
            "[[ 9 12 15  9]\n",
            " [25 32 39 19]\n",
            " [41 52 63 29]]\n"
          ]
        }
      ],
      "source": [
        "A = np.array([[1,2],[3,4],[5,6]])\n",
        "B = np.array([[7,8,9,1],[1,2,3,4]])\n",
        "print(np.matmul(A,B)) # np.dot, @"
      ]
    },
    {
      "cell_type": "code",
      "execution_count": 8,
      "metadata": {
        "colab": {
          "base_uri": "https://localhost:8080/"
        },
        "id": "hT7XJwo2leO2",
        "outputId": "37aacf4c-ff13-4ba6-b4ff-9d822a8c026b"
      },
      "outputs": [
        {
          "name": "stdout",
          "output_type": "stream",
          "text": [
            "[[ 3  4]\n",
            " [15 16]\n",
            " [15  6]]\n"
          ]
        }
      ],
      "source": [
        "A = np.array([[1,2],[3,4],[5,6]])\n",
        "B = np.array([[3,2],[5,4],[3,1]])\n",
        "print(A*B)"
      ]
    },
    {
      "cell_type": "code",
      "execution_count": 9,
      "metadata": {
        "colab": {
          "base_uri": "https://localhost:8080/"
        },
        "id": "sjRBMr-MmD6n",
        "outputId": "f3a6a6e7-a33c-4a21-d163-ab94a6ca99cc"
      },
      "outputs": [
        {
          "name": "stdout",
          "output_type": "stream",
          "text": [
            "[[4 0]\n",
            " [2 8]\n",
            " [1 6]]\n"
          ]
        }
      ],
      "source": [
        "ran_arr = np.random.randint(10,size=(5,7))\n",
        "print(ran_arr[2:5,1:3])"
      ]
    },
    {
      "cell_type": "code",
      "execution_count": 10,
      "metadata": {
        "colab": {
          "base_uri": "https://localhost:8080/"
        },
        "id": "EMvAYndAoSvt",
        "outputId": "523f9520-3da1-4b43-a417-f17999f92b5d"
      },
      "outputs": [
        {
          "name": "stdout",
          "output_type": "stream",
          "text": [
            "[[ 2  3  4]\n",
            " [ 5  6  7]\n",
            " [ 8  9 10]\n",
            " [11 12 13]]\n"
          ]
        }
      ],
      "source": [
        "x = np.array([[1,2,3], [4,5,6], [7,8,9], [10, 11, 12]])\n",
        "v = np.array([1, 1, 1])\n",
        "y = np.empty_like(x)   # Create an empty matrix with the same shape as x\n",
        "\n",
        "for i in range(4):\n",
        "    y[i, :] = x[i, :] + v\n",
        "\n",
        "print(y)"
      ]
    },
    {
      "cell_type": "code",
      "execution_count": 11,
      "metadata": {
        "colab": {
          "base_uri": "https://localhost:8080/"
        },
        "id": "W7f1mbWMtSjq",
        "outputId": "2dd821bb-0bba-49f3-9282-3c3b45d20f2e"
      },
      "outputs": [
        {
          "name": "stdout",
          "output_type": "stream",
          "text": [
            "[[ 3  3  4]\n",
            " [ 6  6  7]\n",
            " [ 9  9 10]\n",
            " [12 12 13]]\n"
          ]
        }
      ],
      "source": [
        "x = np.array([[1,2,3], [4,5,6], [7,8,9], [10, 11, 12]])\n",
        "v = np.array([2, 1, 1])\n",
        "y = np.empty_like(x)   # Create an empty matrix with the same shape as x\n",
        "\n",
        "for i in range(4):\n",
        "    y[i, :] = x[i, :] + v\n",
        "\n",
        "print(y)"
      ]
    },
    {
      "cell_type": "code",
      "execution_count": 12,
      "metadata": {
        "colab": {
          "base_uri": "https://localhost:8080/"
        },
        "id": "g6Hm17k2tXa1",
        "outputId": "508ba434-00c3-4878-9ab4-8b9cb4a0c203"
      },
      "outputs": [
        {
          "name": "stdout",
          "output_type": "stream",
          "text": [
            "[[ 4  3  6]\n",
            " [ 7  6  9]\n",
            " [10  9 12]\n",
            " [13 12 15]]\n"
          ]
        }
      ],
      "source": [
        "x = np.array([[1,2,3], [4,5,6], [7,8,9], [10, 11, 12]])\n",
        "v = np.array([3, 1, 3])\n",
        "y = np.empty_like(x)   # Create an empty matrix with the same shape as x\n",
        "\n",
        "for i in range(4):\n",
        "    y[i, :] = x[i, :] + v\n",
        "\n",
        "print(y)"
      ]
    },
    {
      "cell_type": "code",
      "execution_count": 13,
      "metadata": {
        "colab": {
          "base_uri": "https://localhost:8080/"
        },
        "id": "LoPNEIPLtasJ",
        "outputId": "74982cbb-a847-4791-b520-3b88a0bca0f3"
      },
      "outputs": [
        {
          "name": "stdout",
          "output_type": "stream",
          "text": [
            "[[1. 0.]\n",
            " [1. 1.]\n",
            " [1. 2.]\n",
            " [1. 3.]\n",
            " [1. 4.]\n",
            " [1. 5.]\n",
            " [1. 6.]\n",
            " [1. 7.]\n",
            " [1. 8.]\n",
            " [1. 9.]]\n"
          ]
        }
      ],
      "source": [
        "m, c = 2 , -4\n",
        "N = 10\n",
        "x = np.linspace(0 , N-1, N).reshape(N,1)\n",
        "sigma = 10\n",
        "y = m*x + c + np.random.normal (0 , sigma , (N, 1))\n",
        "X = np.append(np.ones((N,1)) , x, axis=1)\n",
        "print(X)"
      ]
    },
    {
      "cell_type": "code",
      "execution_count": 20,
      "metadata": {
        "colab": {
          "base_uri": "https://localhost:8080/"
        },
        "id": "qqjLWl6lTMAO",
        "outputId": "53df71cc-1006-4ce0-d8bf-fb870b0b4f5c"
      },
      "outputs": [
        {
          "data": {
            "text/plain": [
              "array([[-7.11043575],\n",
              "       [ 1.96321205]])"
            ]
          },
          "execution_count": 20,
          "metadata": {},
          "output_type": "execute_result"
        }
      ],
      "source": [
        "W = np.linalg.inv(X.T@X)@X.T@y\n",
        "W"
      ]
    },
    {
      "cell_type": "code",
      "execution_count": 6,
      "metadata": {
        "id": "C4BXsUX7Vmsi"
      },
      "outputs": [],
      "source": [
        "im = cv.imread('C:/Users/User/Downloads/gal_gaussian.png')\n",
        "im2 = cv.imread('C:/Users/User/Downloads/gal_sandp.png')\n",
        "\n",
        "blur = cv.GaussianBlur(im,(5,5),0)\n",
        "median = cv.medianBlur(im2,5)\n",
        "\n",
        "cv.namedWindow('Image', cv.WINDOW_AUTOSIZE)\n",
        "cv.imshow('Image', im)\n",
        "cv.waitKey(0)\n",
        "cv.imshow('Image', blur)\n",
        "cv.waitKey(0)\n",
        "cv.imshow('Image', median)\n",
        "cv.waitKey(0)\n",
        "cv.destroyAllWindows()"
      ]
    },
    {
      "cell_type": "code",
      "execution_count": 9,
      "metadata": {},
      "outputs": [
        {
          "data": {
            "image/png": "[encoded data removed]",
            "text/plain": [
              "<Figure size 432x288 with 1 Axes>"
            ]
          },
          "metadata": {
            "needs_background": "light"
          },
          "output_type": "display_data"
        }
      ],
      "source": [
        "im = np.zeros((40,60), dtype=np.uint8)\n",
        "im[0:21, 30:61] = 125\n",
        "\n",
        "fig, ax = plt.subplots()\n",
        "ax.imshow(im, cmap='gray', vmin=0, vmax=255)\n",
        "plt.show()"
      ]
    },
    {
      "cell_type": "code",
      "execution_count": 4,
      "metadata": {},
      "outputs": [
        {
          "data": {
            "image/png": "[encoded data removed]",
            "text/plain": [
              "<Figure size 432x288 with 1 Axes>"
            ]
          },
          "metadata": {
            "needs_background": "light"
          },
          "output_type": "display_data"
        }
      ],
      "source": [
        "im = np.zeros((40,60,3), dtype=np.uint8)\n",
        "\n",
        "fig, ax = plt.subplots()\n",
        "im[20:41, 0:31] = (218, 24, 132)\n",
        "ax.imshow(im)\n",
        "plt.show()"
      ]
    },
    {
      "cell_type": "code",
      "execution_count": 5,
      "metadata": {},
      "outputs": [],
      "source": [
        "im = cv.imread('C:/Users/User/Downloads/Documents/ACA/Sem 4/EN2550 Machine Vision/Homeworks/tom_dark.jpg')\n",
        "\n",
        "# Method 1\n",
        "im1 = im + 60 \n",
        "\n",
        "cv.namedWindow('Image', cv.WINDOW_AUTOSIZE)\n",
        "cv.imshow('Image',im)\n",
        "cv.waitKey(0)\n",
        "cv.imshow('Image', im1)\n",
        "cv.waitKey(0)\n",
        "cv.destroyAllWindows()\n",
        "\n",
        "# Method 2\n",
        "isv = cv.cvtColor(im, cv.COLOR_BGR2HSV)\n",
        "increase = 60\n",
        "isv[:,:,2] += increase\n",
        "bri_im = cv.cvtColor(isv, cv.COLOR_HSV2BGR)\n",
        "\n",
        "cv.namedWindow('Image', cv.WINDOW_AUTOSIZE)\n",
        "cv.imshow('Image',im)\n",
        "cv.waitKey(0)\n",
        "cv.imshow('Image',bri_im)\n",
        "cv.waitKey(0)\n",
        "cv.destroyAllWindows()"
      ]
    }
  ],
  "metadata": {
    "colab": {
      "collapsed_sections": [],
      "name": "Copy of Untitled0.ipynb",
      "provenance": []
    },
    "interpreter": {
      "hash": "2647ea34e536f865ab67ff9ddee7fd78773d956cec0cab53c79b32cd10da5d83"
    },
    "kernelspec": {
      "display_name": "Python 3.9.6 64-bit",
      "name": "python3"
    },
    "language_info": {
      "codemirror_mode": {
        "name": "ipython",
        "version": 3
      },
      "file_extension": ".py",
      "mimetype": "text/x-python",
      "name": "python",
      "nbconvert_exporter": "python",
      "pygments_lexer": "ipython3",
      "version": "3.9.6"
    }
  },
  "nbformat": 4,
  "nbformat_minor": 0
}
